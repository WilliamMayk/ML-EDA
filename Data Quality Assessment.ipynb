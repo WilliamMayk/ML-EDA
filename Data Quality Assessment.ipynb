{
 "cells": [
  {
   "cell_type": "code",
   "execution_count": 2,
   "id": "94b03b2c-d255-45a8-a4f7-20ad4019ac95",
   "metadata": {},
   "outputs": [],
   "source": [
    "import pandas as pd\n",
    "import numpy as np\n",
    "import matplotlib as plot"
   ]
  },
  {
   "cell_type": "code",
   "execution_count": 4,
   "id": "a63c0cc5-0fdd-4701-aab5-569b3d48621e",
   "metadata": {},
   "outputs": [],
   "source": [
    "data = pd.read_csv(\"GenZ_DatingApp_Data.csv\")"
   ]
  },
  {
   "cell_type": "code",
   "execution_count": 37,
   "id": "32b21ceb-88a7-42bc-8373-53e4e4b63752",
   "metadata": {},
   "outputs": [],
   "source": [
    "for col in data.select_dtypes(include=['object']).columns:\n",
    "    data[col] = data[col].astype('category')"
   ]
  },
  {
   "cell_type": "code",
   "execution_count": 38,
   "id": "cda18883-3eec-4819-86ef-b4f0d1ad874a",
   "metadata": {},
   "outputs": [
    {
     "name": "stdout",
     "output_type": "stream",
     "text": [
      "0\n"
     ]
    }
   ],
   "source": [
    "## TASK 1\n",
    "## Are there any duplicate rows? If yes, why might duplicates exist in this dataset? \n",
    "\n",
    "# Duplicate rows were not identified in the dataset during the analysis. \n",
    "\n",
    "duplicate_rows = data.duplicated().sum()\n",
    "print(duplicate_rows)"
   ]
  },
  {
   "cell_type": "code",
   "execution_count": 39,
   "id": "f72b85fa-7f37-46a4-89eb-a7d5991d7055",
   "metadata": {},
   "outputs": [
    {
     "name": "stdout",
     "output_type": "stream",
     "text": [
      "Unique values in 'Gender': ['Non-binary', 'Female', 'Male']\n",
      "Categories (3, object): ['Female', 'Male', 'Non-binary']\n",
      "\n",
      "Unique values in 'Location': ['Bangalore', 'Delhi', 'Kolkata', 'Mumbai', 'Chennai', 'Pune', 'Hyderabad']\n",
      "Categories (7, object): ['Bangalore', 'Chennai', 'Delhi', 'Hyderabad', 'Kolkata', 'Mumbai', 'Pune']\n",
      "\n",
      "Unique values in 'Education': ['Undergraduate', 'Graduate', 'Postgraduate']\n",
      "Categories (3, object): ['Graduate', 'Postgraduate', 'Undergraduate']\n",
      "\n",
      "Unique values in 'Occupation': ['Freelancer', 'Part-time Job', 'Intern', 'Full-time Job', 'Student']\n",
      "Categories (5, object): ['Freelancer', 'Full-time Job', 'Intern', 'Part-time Job', 'Student']\n",
      "\n",
      "Unique values in 'Primary_App': ['Hinge', 'OkCupid', 'Tinder', 'Bumble']\n",
      "Categories (4, object): ['Bumble', 'Hinge', 'OkCupid', 'Tinder']\n",
      "\n",
      "Unique values in 'Secondary_Apps': ['Hinge', 'OkCupid', 'Tinder', 'Bumble']\n",
      "Categories (4, object): ['Bumble', 'Hinge', 'OkCupid', 'Tinder']\n",
      "\n",
      "Unique values in 'Usage_Frequency': ['Monthly', 'Weekly', 'Daily']\n",
      "Categories (3, object): ['Daily', 'Monthly', 'Weekly']\n",
      "\n",
      "Unique values in 'Daily_Usage_Time': ['1 hour', '30 minutes', '2 hours', '1.5 hours', '3 hours']\n",
      "Categories (5, object): ['1 hour', '1.5 hours', '2 hours', '3 hours', '30 minutes']\n",
      "\n",
      "Unique values in 'Reason_for_Using': ['Finding a Partner', 'Casual Dating', 'Casual Fun', 'Social Interaction']\n",
      "Categories (4, object): ['Casual Dating', 'Casual Fun', 'Finding a Partner', 'Social Interaction']\n",
      "\n",
      "Unique values in 'Challenges': ['Safety Concerns', 'Time-Wasting', 'Lack of Genuine Matches']\n",
      "Categories (3, object): ['Lack of Genuine Matches', 'Safety Concerns', 'Time-Wasting']\n",
      "\n",
      "Unique values in 'Desired_Features': ['Audio Calls', 'Video Calls', 'Detailed Profiles', 'AI Recommendations', 'Location-Based Matching']\n",
      "Categories (5, object): ['AI Recommendations', 'Audio Calls', 'Detailed Profiles', 'Location-Based Matching', 'Video Calls']\n",
      "\n",
      "Unique values in 'Preferred_Communication': ['Video Calls', 'Text', 'Voice Notes']\n",
      "Categories (3, object): ['Text', 'Video Calls', 'Voice Notes']\n",
      "\n",
      "Unique values in 'Partner_Priorities': ['Values > Personality > Appearance', 'Personality > Interests > Values', 'Appearance > Interests > Personality']\n",
      "Categories (3, object): ['Appearance > Interests > Personality', 'Personality > Interests > Values', 'Values > Personality > Appearance']\n",
      "\n"
     ]
    }
   ],
   "source": [
    "# Are there inconsistencies in categorical values?\n",
    "\n",
    "# There were no inconsistencies in categorical values throughout the dataset. \n",
    "\n",
    "categorical_cols = data.select_dtypes(include=['object', 'category']).columns\n",
    "for col in categorical_cols:\n",
    "    print(f\"Unique values in '{col}': {data[col].unique()}\\n\")"
   ]
  },
  {
   "cell_type": "code",
   "execution_count": 41,
   "id": "66a8c170-0bd5-4d2b-b970-472e5a419662",
   "metadata": {},
   "outputs": [
    {
     "name": "stdout",
     "output_type": "stream",
     "text": [
      "User_ID                    0\n",
      "Age                        0\n",
      "Gender                     0\n",
      "Location                   0\n",
      "Education                  0\n",
      "Occupation                 0\n",
      "Primary_App                0\n",
      "Secondary_Apps             0\n",
      "Usage_Frequency            0\n",
      "Daily_Usage_Time           0\n",
      "Reason_for_Using           0\n",
      "Satisfaction               0\n",
      "Challenges                 0\n",
      "Desired_Features           0\n",
      "Preferred_Communication    0\n",
      "Partner_Priorities         0\n",
      "dtype: int64\n"
     ]
    }
   ],
   "source": [
    "# What should we do if a column has too many missing values? \n",
    "\n",
    "# There are various ways we can deal with a column that has too many missing values. \n",
    "# First of all, we have to determine how much data is missing. Once we have this information, we can decide to drop, fill in the missing values if the column is important or use predictive imputation. \n",
    "\n",
    "missing_values_per_column = data.isnull().sum()\n",
    "print(missing_values_per_column)"
   ]
  },
  {
   "cell_type": "code",
   "execution_count": 42,
   "id": "7df7daa0-0dd6-4a5c-a460-50db16ee7a54",
   "metadata": {},
   "outputs": [
    {
     "data": {
      "image/png": "[encoded data removed]",
      "text/plain": [
       "<Figure size 1000x500 with 1 Axes>"
      ]
     },
     "metadata": {},
     "output_type": "display_data"
    }
   ],
   "source": [
    "# Are there outliers in numerical columns? If so, should we remove or adjust them? \n",
    "\n",
    "# From our observation, we noticed that there are no outliers in numerical columns. \n",
    "\n",
    "import matplotlib.pyplot as plt\n",
    "import seaborn as sns\n",
    "\n",
    "plt.figure(figsize=(10,5))\n",
    "sns.boxplot(x=data['User_ID'])\n",
    "plt.show()"
   ]
  },
  {
   "cell_type": "code",
   "execution_count": 43,
   "id": "de1e89ec-f17a-47fc-9f0d-36421a6fa3a7",
   "metadata": {},
   "outputs": [
    {
     "data": {
      "image/png": "[encoded data removed]",
      "text/plain": [
       "<Figure size 1000x500 with 1 Axes>"
      ]
     },
     "metadata": {},
     "output_type": "display_data"
    }
   ],
   "source": [
    "import matplotlib.pyplot as plt\n",
    "import seaborn as sns\n",
    "\n",
    "plt.figure(figsize=(10,5))\n",
    "sns.boxplot(x=data['Age'])\n",
    "plt.show()"
   ]
  },
  {
   "cell_type": "code",
   "execution_count": 44,
   "id": "8fee5e47-7941-4c65-b950-ed50c01bfcad",
   "metadata": {},
   "outputs": [
    {
     "data": {
      "image/png": "[encoded data removed]",
      "text/plain": [
       "<Figure size 1000x500 with 1 Axes>"
      ]
     },
     "metadata": {},
     "output_type": "display_data"
    }
   ],
   "source": [
    "import matplotlib.pyplot as plt\n",
    "import seaborn as sns\n",
    "\n",
    "plt.figure(figsize=(10,5))\n",
    "sns.boxplot(x=data['Satisfaction'])\n",
    "plt.show()"
   ]
  },
  {
   "cell_type": "code",
   "execution_count": 45,
   "id": "ced4d969-ff04-45c2-87f7-47101b697c22",
   "metadata": {},
   "outputs": [
    {
     "name": "stdout",
     "output_type": "stream",
     "text": [
      "<class 'pandas.core.frame.DataFrame'>\n",
      "RangeIndex: 500 entries, 0 to 499\n",
      "Data columns (total 16 columns):\n",
      " #   Column                   Non-Null Count  Dtype   \n",
      "---  ------                   --------------  -----   \n",
      " 0   User_ID                  500 non-null    int64   \n",
      " 1   Age                      500 non-null    int64   \n",
      " 2   Gender                   500 non-null    category\n",
      " 3   Location                 500 non-null    category\n",
      " 4   Education                500 non-null    category\n",
      " 5   Occupation               500 non-null    category\n",
      " 6   Primary_App              500 non-null    category\n",
      " 7   Secondary_Apps           500 non-null    category\n",
      " 8   Usage_Frequency          500 non-null    category\n",
      " 9   Daily_Usage_Time         500 non-null    category\n",
      " 10  Reason_for_Using         500 non-null    category\n",
      " 11  Satisfaction             500 non-null    int64   \n",
      " 12  Challenges               500 non-null    category\n",
      " 13  Desired_Features         500 non-null    category\n",
      " 14  Preferred_Communication  500 non-null    category\n",
      " 15  Partner_Priorities       500 non-null    category\n",
      "dtypes: category(13), int64(3)\n",
      "memory usage: 20.5 KB\n"
     ]
    }
   ],
   "source": [
    "data.info()"
   ]
  },
  {
   "cell_type": "code",
   "execution_count": null,
   "id": "dd62c7e6-6742-4fc1-8f39-0d239badedb9",
   "metadata": {},
   "outputs": [],
   "source": []
  },
  {
   "cell_type": "code",
   "execution_count": null,
   "id": "70238e16-a970-4695-9930-c4fd6d2b00d2",
   "metadata": {},
   "outputs": [],
   "source": []
  }
 ],
 "metadata": {
  "kernelspec": {
   "display_name": "Python 3 (ipykernel)",
   "language": "python",
   "name": "python3"
  },
  "language_info": {
   "codemirror_mode": {
    "name": "ipython",
    "version": 3
   },
   "file_extension": ".py",
   "mimetype": "text/x-python",
   "name": "python",
   "nbconvert_exporter": "python",
   "pygments_lexer": "ipython3",
   "version": "3.12.7"
  }
 },
 "nbformat": 4,
 "nbformat_minor": 5
}
