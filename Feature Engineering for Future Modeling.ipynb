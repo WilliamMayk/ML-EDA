{
 "cells": [
  {
   "cell_type": "code",
   "execution_count": 1,
   "id": "5811ad49-2ffb-4b47-b5bb-087637d392ce",
   "metadata": {},
   "outputs": [],
   "source": [
    "import pandas as pd\n",
    "import numpy as np\n",
    "import matplotlib as plot"
   ]
  },
  {
   "cell_type": "code",
   "execution_count": 2,
   "id": "8d8d8d4f-5ba8-4f63-a677-2b0c661feaf6",
   "metadata": {},
   "outputs": [],
   "source": [
    "data = pd.read_csv(\"GenZ_DatingApp_Data.csv\")"
   ]
  },
  {
   "cell_type": "code",
   "execution_count": 7,
   "id": "053ee28d-d7a3-4e9d-bb0b-bfbe3f8752e7",
   "metadata": {},
   "outputs": [
    {
     "name": "stdout",
     "output_type": "stream",
     "text": [
      "   Gender_Male  Gender_Non-binary  Location_Chennai  Location_Delhi  \\\n",
      "0          0.0                1.0               0.0             0.0   \n",
      "1          0.0                0.0               0.0             1.0   \n",
      "2          0.0                1.0               0.0             0.0   \n",
      "3          0.0                1.0               0.0             1.0   \n",
      "4          1.0                0.0               0.0             1.0   \n",
      "\n",
      "   Location_Hyderabad  Location_Kolkata  Location_Mumbai  Location_Pune  \\\n",
      "0                 0.0               0.0              0.0            0.0   \n",
      "1                 0.0               0.0              0.0            0.0   \n",
      "2                 0.0               1.0              0.0            0.0   \n",
      "3                 0.0               0.0              0.0            0.0   \n",
      "4                 0.0               0.0              0.0            0.0   \n",
      "\n",
      "   Education_Postgraduate  Education_Undergraduate  ...  \\\n",
      "0                     0.0                      1.0  ...   \n",
      "1                     0.0                      1.0  ...   \n",
      "2                     0.0                      1.0  ...   \n",
      "3                     0.0                      0.0  ...   \n",
      "4                     0.0                      0.0  ...   \n",
      "\n",
      "   Challenges_Time-Wasting  Challenges_nan  Desired_Features_Audio Calls  \\\n",
      "0                      0.0             0.0                           1.0   \n",
      "1                      1.0             0.0                           0.0   \n",
      "2                      0.0             0.0                           0.0   \n",
      "3                      0.0             1.0                           0.0   \n",
      "4                      0.0             0.0                           0.0   \n",
      "\n",
      "   Desired_Features_Detailed Profiles  \\\n",
      "0                                 0.0   \n",
      "1                                 0.0   \n",
      "2                                 1.0   \n",
      "3                                 0.0   \n",
      "4                                 0.0   \n",
      "\n",
      "   Desired_Features_Location-Based Matching  Desired_Features_Video Calls  \\\n",
      "0                                       0.0                           0.0   \n",
      "1                                       0.0                           1.0   \n",
      "2                                       0.0                           0.0   \n",
      "3                                       0.0                           0.0   \n",
      "4                                       0.0                           1.0   \n",
      "\n",
      "   Preferred_Communication_Video Calls  Preferred_Communication_Voice Notes  \\\n",
      "0                                  1.0                                  0.0   \n",
      "1                                  0.0                                  0.0   \n",
      "2                                  0.0                                  0.0   \n",
      "3                                  0.0                                  1.0   \n",
      "4                                  0.0                                  0.0   \n",
      "\n",
      "   Partner_Priorities_Personality > Interests > Values  \\\n",
      "0                                                0.0     \n",
      "1                                                0.0     \n",
      "2                                                0.0     \n",
      "3                                                1.0     \n",
      "4                                                0.0     \n",
      "\n",
      "   Partner_Priorities_Values > Personality > Appearance  \n",
      "0                                                1.0     \n",
      "1                                                1.0     \n",
      "2                                                1.0     \n",
      "3                                                0.0     \n",
      "4                                                0.0     \n",
      "\n",
      "[5 rows x 38 columns]\n"
     ]
    }
   ],
   "source": [
    "from sklearn.preprocessing import OneHotEncoder\n",
    "\n",
    "categorical_columns = ['Gender', 'Location', 'Education', 'Occupation', 'Primary_App', 'Secondary_Apps', \n",
    "                       'Usage_Frequency', 'Reason_for_Using', 'Challenges', 'Desired_Features', \n",
    "                       'Preferred_Communication', 'Partner_Priorities']\n",
    "\n",
    "#Apply One-Hot Encoding\n",
    "one_hot_encoder = OneHotEncoder(sparse_output=False, drop='first')\n",
    "encoded_categorical = one_hot_encoder.fit_transform(data[categorical_columns])\n",
    "\n",
    "#Convert encoded data to DataFrame\n",
    "encoded_data = pd.DataFrame(encoded_categorical, columns=one_hot_encoder.get_feature_names_out(categorical_columns))\n",
    "\n",
    "# Display the encoded DataFrame\n",
    "print(encoded_data.head())"
   ]
  },
  {
   "cell_type": "code",
   "execution_count": 8,
   "id": "da264643-29db-4c8a-a90b-7ffa5a893414",
   "metadata": {},
   "outputs": [
    {
     "name": "stderr",
     "output_type": "stream",
     "text": [
      "C:\\Users\\William Okwale\\AppData\\Local\\Temp\\ipykernel_10044\\488809987.py:2: FutureWarning: Downcasting behavior in `replace` is deprecated and will be removed in a future version. To retain the old behavior, explicitly call `result.infer_objects(copy=False)`. To opt-in to the future behavior, set `pd.set_option('future.no_silent_downcasting', True)`\n",
      "  data['Daily_Usage_Time'] = data['Daily_Usage_Time'].replace({\n"
     ]
    }
   ],
   "source": [
    "# Convert 'Daily_Usage_Time' from strings to numeric values (in hours)\n",
    "data['Daily_Usage_Time'] = data['Daily_Usage_Time'].replace({\n",
    "    '30 minutes': 0.5, \n",
    "    '1 hour': 1, \n",
    "    '1.5 hours': 1.5, \n",
    "    '2 hours': 2, \n",
    "    '3 hours': 3\n",
    "})"
   ]
  }
 ],
 "metadata": {
  "kernelspec": {
   "display_name": "Python 3 (ipykernel)",
   "language": "python",
   "name": "python3"
  },
  "language_info": {
   "codemirror_mode": {
    "name": "ipython",
    "version": 3
   },
   "file_extension": ".py",
   "mimetype": "text/x-python",
   "name": "python",
   "nbconvert_exporter": "python",
   "pygments_lexer": "ipython3",
   "version": "3.12.7"
  }
 },
 "nbformat": 4,
 "nbformat_minor": 5
}
